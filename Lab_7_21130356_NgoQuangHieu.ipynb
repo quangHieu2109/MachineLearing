{
  "cells": [
    {
      "cell_type": "markdown",
      "metadata": {
        "id": "view-in-github",
        "colab_type": "text"
      },
      "source": [
        "<a href=\"https://colab.research.google.com/github/quangHieu2109/MachineLearing/blob/main/Lab_7_21130356_NgoQuangHieu.ipynb\" target=\"_parent\"><img src=\"https://colab.research.google.com/assets/colab-badge.svg\" alt=\"Open In Colab\"/></a>"
      ]
    },
    {
      "cell_type": "markdown",
      "metadata": {
        "id": "LMzehe0sy5wr"
      },
      "source": [
        "# This lab deals with **GridSearchCV** for tuning the hyper-parameters of an estimator and applying vectorization techniques to the **movie reviews dataset** for classification task.\n",
        "\n",
        "*   **Deadline: 23:59, 22/4/2024 (lớp TH thứ 3) || 29/4/2024 (lớp TH thứ 5)**\n",
        "\n"
      ]
    },
    {
      "cell_type": "markdown",
      "metadata": {
        "id": "H4nJmxp9zGX4"
      },
      "source": [
        "# Import libraries"
      ]
    },
    {
      "cell_type": "code",
      "execution_count": 1,
      "metadata": {
        "id": "DoVWQ8AEyc-C"
      },
      "outputs": [],
      "source": [
        "# code\n",
        "import numpy as np\n",
        "import pandas as pd\n",
        "import matplotlib.pyplot as plt\n",
        "import seaborn as sns\n",
        "from sklearn.impute import SimpleImputer\n",
        "from sklearn import preprocessing\n",
        "from sklearn.preprocessing import StandardScaler\n",
        "from sklearn.model_selection import train_test_split\n",
        "from sklearn.neighbors import KNeighborsClassifier\n",
        "from sklearn.ensemble import RandomForestClassifier\n",
        "from sklearn import metrics\n",
        "from prettytable import PrettyTable\n",
        "from sklearn import svm\n",
        "from sklearn.linear_model import LinearRegression,LogisticRegression\n",
        "from sklearn.tree import DecisionTreeClassifier\n",
        "from sklearn.metrics import classification_report, confusion_matrix\n",
        "from sklearn.metrics import accuracy_score\n",
        "from sklearn.metrics import precision_score\n",
        "from sklearn.metrics import recall_score\n",
        "from sklearn.metrics import f1_score\n",
        "from sklearn.naive_bayes import GaussianNB\n",
        "from sklearn.preprocessing import OneHotEncoder\n",
        "from sklearn.preprocessing import LabelEncoder\n",
        "from sklearn import datasets\n",
        "from sklearn.model_selection import GridSearchCV\n",
        "\n",
        "from google.colab import drive\n",
        "drive.mount('/content/gdrive')\n",
        "%cd '/content/gdrive/MyDrive/ML/dataset'\n"
      ]
    },
    {
      "cell_type": "markdown",
      "metadata": {
        "id": "x_dG9SA5OhGT"
      },
      "source": [
        "#Task 1. With **iris** dataset\n",
        "*  1.1. Apply **GridSearchCV** for **SVM** to find the best hyperparameters using the following param_grid.\n",
        "\n",
        "```\n",
        "param_grid = {'C': [0.1, 1, 10, 100, 1000],\n",
        "              'gamma': [1, 0.1, 0.01, 0.001, 0.0001],\n",
        "              'kernel': ['rbf','linear']}\n",
        "```\n",
        "\n",
        "\n"
      ]
    },
    {
      "cell_type": "code",
      "source": [
        "#grid_params\n",
        "SMVgrid_params = {'C': [0.1, 1, 10, 100, 1000],\n",
        "              'gamma': [1, 0.1, 0.01, 0.001, 0.0001],\n",
        "              'kernel': ['rbf','linear']}\n",
        "kNNgrid_params = { 'n_neighbors' : [5,7,9,11,13,15],\n",
        "               'weights' : ['uniform','distance'],\n",
        "               'metric' : ['minkowski','euclidean','manhattan']}\n",
        "RFgrid_params = {\n",
        "    'n_estimators': [25, 50, 100, 150],\n",
        "    'max_features': ['sqrt', 'log2', None],\n",
        "    'max_depth': [3, 6, 9],\n",
        "    'max_leaf_nodes': [3, 6, 9],\n",
        "}\n",
        "LRLRgrid_params= {\n",
        "    'C': [ 0.1, 1, 10, 100],\n",
        "    'penalty': ['l1', 'l2'],\n",
        "    'max_iter': list(range(100,800,100)),\n",
        "    'solver': ['newton-cg', 'lbfgs', 'liblinear', 'sag', 'saga']\n",
        "}"
      ],
      "metadata": {
        "id": "1EyG5pm9GLvC"
      },
      "execution_count": 2,
      "outputs": []
    },
    {
      "cell_type": "code",
      "execution_count": 3,
      "metadata": {
        "id": "62jExOZ952fF"
      },
      "outputs": [],
      "source": [
        "# #code\n",
        "dataSet = datasets.load_iris();\n",
        "\n",
        "dataX = dataSet.data\n",
        "dataY = dataSet.target\n",
        "t = PrettyTable(['Algorithms', 'Accurance', 'Precision', 'Recall','F1 measure'])\n",
        "def _insertTable(t, nameAlg, y_test, y_pred):\n",
        "  t.add_row([nameAlg, metrics.accuracy_score(y_test, y_pred), metrics.precision_score(y_test, y_pred, average='macro')\n",
        "  ,metrics.recall_score(y_test, y_pred, average='macro'),metrics.f1_score(y_test, y_pred, average='macro')])\n",
        "def _findBestHeperParam(param_grid, algo):\n",
        "  grid_rf_class = GridSearchCV(\n",
        "  estimator = algo,\n",
        "  param_grid = param_grid,\n",
        "  scoring = 'accuracy',\n",
        "  n_jobs =4,\n",
        "  cv=10,\n",
        "  refit = True,\n",
        "  return_train_score = True)\n",
        "  grid_rf_class.fit(X_train, y_train)\n",
        "  y_pred = grid_rf_class.predict(X_test)\n",
        "  print(grid_rf_class.best_params_)\n",
        "  _insertTable(t, \"GridSearchCV - \"+algo.__class__.__name__, y_test, y_pred )\n",
        "\n",
        "\n",
        "\n",
        "\n",
        "\n",
        "X_train, X_test, y_train, y_test = train_test_split(dataX, dataY, test_size=0.3, shuffle=True)\n",
        "svm_l = svm.SVC()\n",
        "_findBestHeperParam(SMVgrid_params ,svm_l)\n"
      ]
    },
    {
      "cell_type": "markdown",
      "metadata": {
        "id": "2g--8cng53sY"
      },
      "source": [
        "*  1.2. Apply **GridSearchCV** for **kNN** to find the best hyperparameters using the following param_grid.\n",
        "\n",
        "```\n",
        "grid_params = { 'n_neighbors' : [5,7,9,11,13,15],\n",
        "               'weights' : ['uniform','distance'],\n",
        "               'metric' : ['minkowski','euclidean','manhattan']}\n",
        "```\n",
        "where\n",
        "\n",
        "    *  **n_neighbors**: Decide the best k based on the values we have computed earlier.\n",
        "    *  **weights**: Check whether adding weights to the data points is beneficial to the model or not. 'uniform' assigns no weight, while 'distance' weighs points by the inverse of their distances meaning nearer points will have more weight than the farther points.\n",
        "    *  **metric**: The distance metric to be used will calculating the similarity.\n"
      ]
    },
    {
      "cell_type": "code",
      "execution_count": null,
      "metadata": {
        "id": "fX0_kItYPism"
      },
      "outputs": [],
      "source": [
        "#code\n",
        "\n",
        "knn = KNeighborsClassifier();\n",
        "_findBestHeperParam(kNNgrid_params, knn)\n"
      ]
    },
    {
      "cell_type": "markdown",
      "metadata": {
        "id": "3lQSOcjL_TIW"
      },
      "source": [
        "*  1.3. Apply **GridSearchCV** for **Random Forest** to find the best hyperparameters using the following param_grid.\n",
        "\n",
        "```\n",
        "param_grid = {\n",
        "    'n_estimators': [25, 50, 100, 150],\n",
        "    'max_features': ['sqrt', 'log2', None],\n",
        "    'max_depth': [3, 6, 9],\n",
        "    'max_leaf_nodes': [3, 6, 9],\n",
        "}\n",
        "```"
      ]
    },
    {
      "cell_type": "code",
      "execution_count": null,
      "metadata": {
        "id": "OlyF9WpN_01p"
      },
      "outputs": [],
      "source": [
        "#code\n",
        "\n",
        "rf = RandomForestClassifier()\n",
        "_findBestHeperParam(RFgrid_params, rf)\n"
      ]
    },
    {
      "cell_type": "markdown",
      "metadata": {
        "id": "G3N7TD7s_3Kp"
      },
      "source": [
        "*   1.4 Compare the best obtained results from 1.1 to 1.3 (use PrettyTable to dispaly the results)"
      ]
    },
    {
      "cell_type": "code",
      "execution_count": null,
      "metadata": {
        "colab": {
          "base_uri": "https://localhost:8080/"
        },
        "id": "d9BORRhTFBaS",
        "outputId": "fa815cbd-f65c-4263-9a77-4b6cb5d57525"
      },
      "outputs": [
        {
          "name": "stdout",
          "output_type": "stream",
          "text": [
            "+---------------------------------------+--------------------+--------------------+--------------------+-------------------+\n",
            "|               Algorithms              |     Accurance      |     Precision      |       Recall       |     F1 measure    |\n",
            "+---------------------------------------+--------------------+--------------------+--------------------+-------------------+\n",
            "|           GridSearchCV - SVC          |        1.0         |        1.0         |        1.0         |        1.0        |\n",
            "|  GridSearchCV - KNeighborsClassifier  |        1.0         |        1.0         |        1.0         |        1.0        |\n",
            "| GridSearchCV - RandomForestClassifier | 0.9777777777777777 | 0.9722222222222222 | 0.9814814814814815 | 0.975983436853002 |\n",
            "+---------------------------------------+--------------------+--------------------+--------------------+-------------------+\n"
          ]
        }
      ],
      "source": [
        "print(t)"
      ]
    },
    {
      "cell_type": "markdown",
      "metadata": {
        "id": "kNv07ARGzOUm"
      },
      "source": [
        "#Task 2.\n",
        "For breast cancer dataset (https://tinyurl.com/3vme8hr3) which could be loaded from datasets in sklearn as follows:\n",
        "\n",
        "```\n",
        "#Import scikit-learn dataset library\n",
        "from sklearn import datasets\n",
        "\n",
        "#Load dataset\n",
        "cancer = datasets.load_breast_cancer()\n",
        "```\n",
        "\n",
        "*   Apply **GridSearchCV** to different classification algorithms such as **SVM, kNN, LogisticRegression, RandomForest**.\n",
        "*   Compare the results obtained by the best hyperparameters among classification algorithms."
      ]
    },
    {
      "cell_type": "markdown",
      "metadata": {
        "id": "pnoVB8J4vV36"
      },
      "source": [
        "*   2.1. Apply **GridSearchCV** to **SVM**\n"
      ]
    },
    {
      "cell_type": "code",
      "execution_count": null,
      "metadata": {
        "colab": {
          "base_uri": "https://localhost:8080/"
        },
        "id": "-ZTSvsJdvYqI",
        "outputId": "4dd22ab6-c4e1-4701-eda1-ad1dea357bf7"
      },
      "outputs": [
        {
          "output_type": "stream",
          "name": "stdout",
          "text": [
            "{'C': 100, 'gamma': 1, 'kernel': 'linear'}\n"
          ]
        }
      ],
      "source": [
        "# code\n",
        "cancer = datasets.load_breast_cancer()\n",
        "t = PrettyTable(['Algorithms', 'Accurance', 'Precision', 'Recall','F1 measure'])\n",
        "dataX = cancer.data\n",
        "dataY = cancer.target\n",
        "X_train, X_test, y_train, y_test = train_test_split(dataX, dataY, test_size=0.3, shuffle=True)\n",
        "svm_l = svm.SVC()\n",
        "_findBestHeperParam(SMVgrid_params, svm_l)\n"
      ]
    },
    {
      "cell_type": "markdown",
      "metadata": {
        "id": "ol1U_T_NvcqV"
      },
      "source": [
        "*   2.2. Apply **GridSearchCV** to **kNN**"
      ]
    },
    {
      "cell_type": "code",
      "execution_count": null,
      "metadata": {
        "id": "kt71yrAoBwYE",
        "colab": {
          "base_uri": "https://localhost:8080/"
        },
        "outputId": "41d9fc41-5f39-4183-99e3-7fa2c96a4efa"
      },
      "outputs": [
        {
          "output_type": "stream",
          "name": "stdout",
          "text": [
            "{'metric': 'manhattan', 'n_neighbors': 7, 'weights': 'uniform'}\n"
          ]
        }
      ],
      "source": [
        "#code\n",
        "knn = KNeighborsClassifier();\n",
        "_findBestHeperParam(kNNgrid_params, knn)"
      ]
    },
    {
      "cell_type": "markdown",
      "metadata": {
        "id": "pPkAvse-BxNa"
      },
      "source": [
        "*   2.3. Apply **GridSearchCV** to **LogisticRegression**"
      ]
    },
    {
      "cell_type": "code",
      "execution_count": null,
      "metadata": {
        "id": "nyYjpHFbB1Ci",
        "colab": {
          "base_uri": "https://localhost:8080/"
        },
        "outputId": "795ae547-93ad-4676-faf8-65d82c11db35"
      },
      "outputs": [
        {
          "output_type": "stream",
          "name": "stderr",
          "text": [
            "/usr/local/lib/python3.10/dist-packages/sklearn/model_selection/_validation.py:378: FitFailedWarning: \n",
            "1470 fits failed out of a total of 4900.\n",
            "The score on these train-test partitions for these parameters will be set to nan.\n",
            "If these failures are not expected, you can try to debug them by setting error_score='raise'.\n",
            "\n",
            "Below are more details about the failures:\n",
            "--------------------------------------------------------------------------------\n",
            "490 fits failed with the following error:\n",
            "Traceback (most recent call last):\n",
            "  File \"/usr/local/lib/python3.10/dist-packages/sklearn/model_selection/_validation.py\", line 686, in _fit_and_score\n",
            "    estimator.fit(X_train, y_train, **fit_params)\n",
            "  File \"/usr/local/lib/python3.10/dist-packages/sklearn/linear_model/_logistic.py\", line 1162, in fit\n",
            "    solver = _check_solver(self.solver, self.penalty, self.dual)\n",
            "  File \"/usr/local/lib/python3.10/dist-packages/sklearn/linear_model/_logistic.py\", line 54, in _check_solver\n",
            "    raise ValueError(\n",
            "ValueError: Solver newton-cg supports only 'l2' or 'none' penalties, got l1 penalty.\n",
            "\n",
            "--------------------------------------------------------------------------------\n",
            "490 fits failed with the following error:\n",
            "Traceback (most recent call last):\n",
            "  File \"/usr/local/lib/python3.10/dist-packages/sklearn/model_selection/_validation.py\", line 686, in _fit_and_score\n",
            "    estimator.fit(X_train, y_train, **fit_params)\n",
            "  File \"/usr/local/lib/python3.10/dist-packages/sklearn/linear_model/_logistic.py\", line 1162, in fit\n",
            "    solver = _check_solver(self.solver, self.penalty, self.dual)\n",
            "  File \"/usr/local/lib/python3.10/dist-packages/sklearn/linear_model/_logistic.py\", line 54, in _check_solver\n",
            "    raise ValueError(\n",
            "ValueError: Solver lbfgs supports only 'l2' or 'none' penalties, got l1 penalty.\n",
            "\n",
            "--------------------------------------------------------------------------------\n",
            "490 fits failed with the following error:\n",
            "Traceback (most recent call last):\n",
            "  File \"/usr/local/lib/python3.10/dist-packages/sklearn/model_selection/_validation.py\", line 686, in _fit_and_score\n",
            "    estimator.fit(X_train, y_train, **fit_params)\n",
            "  File \"/usr/local/lib/python3.10/dist-packages/sklearn/linear_model/_logistic.py\", line 1162, in fit\n",
            "    solver = _check_solver(self.solver, self.penalty, self.dual)\n",
            "  File \"/usr/local/lib/python3.10/dist-packages/sklearn/linear_model/_logistic.py\", line 54, in _check_solver\n",
            "    raise ValueError(\n",
            "ValueError: Solver sag supports only 'l2' or 'none' penalties, got l1 penalty.\n",
            "\n",
            "  warnings.warn(some_fits_failed_message, FitFailedWarning)\n",
            "/usr/local/lib/python3.10/dist-packages/sklearn/model_selection/_search.py:952: UserWarning: One or more of the test scores are non-finite: [       nan        nan 0.90948718        nan 0.90698718 0.9449359\n",
            " 0.93980769 0.92455128 0.91448718 0.90198718        nan        nan\n",
            " 0.90948718        nan 0.89948718 0.9449359  0.9449359  0.92455128\n",
            " 0.91955128 0.91448718        nan        nan 0.90948718        nan\n",
            " 0.90198718 0.9449359  0.9449359  0.92455128 0.91955128 0.91948718\n",
            "        nan        nan 0.90948718        nan 0.90948718 0.9449359\n",
            " 0.9449359  0.92455128 0.91955128 0.91955128        nan        nan\n",
            " 0.90948718        nan 0.90948718 0.9449359  0.9449359  0.92455128\n",
            " 0.91955128 0.91955128        nan        nan 0.90948718        nan\n",
            " 0.90698718 0.9449359  0.9449359  0.92455128 0.91955128 0.91955128\n",
            "        nan        nan 0.90948718        nan 0.90698718 0.9449359\n",
            " 0.9449359  0.92455128 0.91955128 0.91955128        nan        nan\n",
            " 0.91955128        nan 0.90448718 0.94237179 0.93230769 0.92974359\n",
            " 0.91448718 0.90198718        nan        nan 0.91955128        nan\n",
            " 0.91198718 0.94237179 0.93237179 0.92974359 0.91955128 0.91448718\n",
            "        nan        nan 0.91955128        nan 0.91448718 0.94237179\n",
            " 0.94237179 0.92974359 0.91955128 0.91948718        nan        nan\n",
            " 0.91955128        nan 0.91948718 0.94237179 0.94237179 0.92974359\n",
            " 0.91955128 0.91955128        nan        nan 0.91955128        nan\n",
            " 0.91948718 0.94237179 0.94237179 0.92974359 0.91955128 0.91955128\n",
            "        nan        nan 0.91955128        nan 0.91955128 0.94237179\n",
            " 0.94237179 0.92974359 0.91955128 0.91955128        nan        nan\n",
            " 0.91955128        nan 0.91955128 0.94237179 0.94237179 0.92974359\n",
            " 0.92205128 0.91955128        nan        nan 0.92717949        nan\n",
            " 0.90448718 0.94237179 0.93730769 0.93480769 0.91448718 0.90198718\n",
            "        nan        nan 0.92717949        nan 0.91448718 0.94237179\n",
            " 0.93480769 0.93480769 0.91955128 0.91448718        nan        nan\n",
            " 0.92717949        nan 0.91948718 0.94237179 0.93980769 0.93480769\n",
            " 0.91955128 0.91948718        nan        nan 0.92717949        nan\n",
            " 0.91955128 0.94237179 0.94230769 0.93480769 0.91955128 0.91955128\n",
            "        nan        nan 0.92717949        nan 0.91955128 0.94237179\n",
            " 0.94737179 0.93480769 0.91955128 0.91955128        nan        nan\n",
            " 0.92717949        nan 0.91955128 0.94237179 0.93987179 0.93480769\n",
            " 0.91955128 0.91955128        nan        nan 0.92717949        nan\n",
            " 0.91955128 0.94237179 0.94237179 0.93480769 0.92205128 0.91955128\n",
            "        nan        nan 0.94737179        nan 0.90198718 0.94737179\n",
            " 0.93737179 0.9449359  0.91448718 0.90448718        nan        nan\n",
            " 0.94987179        nan 0.91448718 0.94737179 0.93987179 0.9449359\n",
            " 0.91955128 0.91448718        nan        nan 0.94987179        nan\n",
            " 0.91948718 0.94737179 0.9449359  0.9449359  0.91955128 0.91948718\n",
            "        nan        nan 0.94987179        nan 0.91955128 0.94737179\n",
            " 0.94237179 0.9449359  0.91955128 0.91955128        nan        nan\n",
            " 0.94987179        nan 0.91955128 0.94737179 0.94237179 0.9449359\n",
            " 0.91955128 0.91955128        nan        nan 0.94987179        nan\n",
            " 0.91955128 0.94737179 0.94237179 0.9449359  0.91955128 0.91955128\n",
            "        nan        nan 0.94987179        nan 0.91955128 0.94737179\n",
            " 0.94237179 0.9449359  0.92205128 0.91955128        nan        nan\n",
            " 0.96237179        nan 0.90198718 0.9574359  0.9424359  0.9549359\n",
            " 0.91448718 0.90198718        nan        nan 0.96237179        nan\n",
            " 0.91448718 0.9574359  0.9524359  0.9549359  0.91955128 0.91448718\n",
            "        nan        nan 0.96237179        nan 0.91948718 0.9574359\n",
            " 0.9499359  0.9549359  0.91955128 0.91948718        nan        nan\n",
            " 0.96487179        nan 0.91955128 0.9574359  0.95487179 0.9549359\n",
            " 0.91955128 0.91955128        nan        nan 0.96237179        nan\n",
            " 0.91955128 0.9574359  0.95237179 0.9549359  0.91955128 0.91955128\n",
            "        nan        nan 0.96487179        nan 0.91955128 0.9574359\n",
            " 0.95487179 0.9549359  0.91955128 0.91955128        nan        nan\n",
            " 0.96237179        nan 0.91955128 0.9574359  0.95487179 0.9549359\n",
            " 0.92205128 0.91955128        nan        nan 0.97237179        nan\n",
            " 0.90198718 0.96737179 0.93987179 0.96480769 0.91448718 0.90448718\n",
            "        nan        nan 0.96987179        nan 0.91448718 0.96237179\n",
            " 0.94980769 0.96480769 0.91955128 0.91448718        nan        nan\n",
            " 0.97237179        nan 0.91948718 0.96237179 0.95487179 0.96480769\n",
            " 0.91955128 0.91948718        nan        nan 0.97237179        nan\n",
            " 0.91955128 0.96237179 0.95730769 0.96480769 0.91955128 0.91955128\n",
            "        nan        nan 0.96987179        nan 0.91955128 0.96237179\n",
            " 0.95730769 0.96480769 0.91955128 0.91955128        nan        nan\n",
            " 0.96987179        nan 0.91955128 0.96237179 0.95980769 0.96480769\n",
            " 0.91955128 0.91955128        nan        nan 0.96987179        nan\n",
            " 0.91955128 0.96237179 0.95980769 0.96480769 0.92205128 0.91955128\n",
            "        nan        nan 0.97487179        nan 0.90198718 0.96487179\n",
            " 0.9374359  0.96987179 0.91448718 0.90198718        nan        nan\n",
            " 0.97737179        nan 0.91448718 0.96737179 0.94230769 0.96987179\n",
            " 0.91955128 0.91448718        nan        nan 0.97737179        nan\n",
            " 0.91948718 0.96737179 0.95480769 0.96987179 0.91955128 0.91948718\n",
            "        nan        nan 0.97737179        nan 0.91955128 0.96737179\n",
            " 0.95730769 0.96987179 0.91955128 0.91955128        nan        nan\n",
            " 0.97737179        nan 0.91955128 0.96737179 0.95730769 0.96987179\n",
            " 0.91955128 0.91955128        nan        nan 0.97737179        nan\n",
            " 0.91955128 0.96737179 0.95730769 0.96987179 0.91955128 0.91955128\n",
            "        nan        nan 0.97737179        nan 0.91955128 0.96737179\n",
            " 0.95730769 0.96987179 0.92205128 0.91955128]\n",
            "  warnings.warn(\n",
            "/usr/local/lib/python3.10/dist-packages/sklearn/model_selection/_search.py:952: UserWarning: One or more of the train scores are non-finite: [       nan        nan 0.90815036        nan 0.90675604 0.9486337\n",
            " 0.9374644  0.92601811 0.91764212 0.90675526        nan        nan\n",
            " 0.90815036        nan 0.90201055 0.9486337  0.9486337  0.92601811\n",
            " 0.9218305  0.91764212        nan        nan 0.90815036        nan\n",
            " 0.9045214  0.9486337  0.9486337  0.92601811 0.92155117 0.92127184\n",
            "        nan        nan 0.90815036        nan 0.90675449 0.9486337\n",
            " 0.9486337  0.92601811 0.92266771 0.9218305         nan        nan\n",
            " 0.90815036        nan 0.90731314 0.9486337  0.9486337  0.92601811\n",
            " 0.9235057  0.9218305         nan        nan 0.90815036        nan\n",
            " 0.90703382 0.9486337  0.9486337  0.92601811 0.92378503 0.92155117\n",
            "        nan        nan 0.90815036        nan 0.90759247 0.9486337\n",
            " 0.9486337  0.92601811 0.92406358 0.92155117        nan        nan\n",
            " 0.92322793        nan 0.9059165  0.94863603 0.93243725 0.93020728\n",
            " 0.91764212 0.90731392        nan        nan 0.92322793        nan\n",
            " 0.91624702 0.94863603 0.94388743 0.93020728 0.92155117 0.91736279\n",
            "        nan        nan 0.92322793        nan 0.91903799 0.94863603\n",
            " 0.94891536 0.93020728 0.92155117 0.92099251        nan        nan\n",
            " 0.92322793        nan 0.92071396 0.94863603 0.9483567  0.93020728\n",
            " 0.92266927 0.92155117        nan        nan 0.92322793        nan\n",
            " 0.92099329 0.94863603 0.94863603 0.93020728 0.92378503 0.92127184\n",
            "        nan        nan 0.92322793        nan 0.92099329 0.94863603\n",
            " 0.94863603 0.93020728 0.92406358 0.92155117        nan        nan\n",
            " 0.92322793        nan 0.92155195 0.94863603 0.94863603 0.93020728\n",
            " 0.92490002 0.92210983        nan        nan 0.92574112        nan\n",
            " 0.90647593 0.9575668  0.94081791 0.9419329  0.91764212 0.90647593\n",
            "        nan        nan 0.92601967        nan 0.91764212 0.9575668\n",
            " 0.94109647 0.9419329  0.92155117 0.91736279        nan        nan\n",
            " 0.92601967        nan 0.92127184 0.9575668  0.94360888 0.9419329\n",
            " 0.92155117 0.92099251        nan        nan 0.92601967        nan\n",
            " 0.9218305  0.9575668  0.94612284 0.9419329  0.92266927 0.92155117\n",
            "        nan        nan 0.92601967        nan 0.92155117 0.9575668\n",
            " 0.95533605 0.9419329  0.92378503 0.92099251        nan        nan\n",
            " 0.92601967        nan 0.92155117 0.9575668  0.9575668  0.9419329\n",
            " 0.92406358 0.92155117        nan        nan 0.92601967        nan\n",
            " 0.9218305  0.9575668  0.9575668  0.9419329  0.92490002 0.92210983\n",
            "        nan        nan 0.96538102        nan 0.90703459 0.96566347\n",
            " 0.94974946 0.96035776 0.91792145 0.90731392        nan        nan\n",
            " 0.96510247        nan 0.91736279 0.96566347 0.95645026 0.96035776\n",
            " 0.92127184 0.91736279        nan        nan 0.96482314        nan\n",
            " 0.92099251 0.96566347 0.96063787 0.96035776 0.9218305  0.92099251\n",
            "        nan        nan 0.96482237        nan 0.92155117 0.96566347\n",
            " 0.95951977 0.96035776 0.92266927 0.92155117        nan        nan\n",
            " 0.96510247        nan 0.92099251 0.96566347 0.96063787 0.96035776\n",
            " 0.92378503 0.92099251        nan        nan 0.96510169        nan\n",
            " 0.92155117 0.96566347 0.95952133 0.96035776 0.92406358 0.92155117\n",
            "        nan        nan 0.96454381        nan 0.92210983 0.96566347\n",
            " 0.96008076 0.96035776 0.92490002 0.92210983        nan        nan\n",
            " 0.98017771        nan 0.90731392 0.97599322 0.95644559 0.9759901\n",
            " 0.91764212 0.90731392        nan        nan 0.98017771        nan\n",
            " 0.91736279 0.97599322 0.96929086 0.9759901  0.92155117 0.91764212\n",
            "        nan        nan 0.98017771        nan 0.92099251 0.97599322\n",
            " 0.9732007  0.9759901  0.9218305  0.92099251        nan        nan\n",
            " 0.98017771        nan 0.92155117 0.97599322 0.97515289 0.9759901\n",
            " 0.92266927 0.92155117        nan        nan 0.98017771        nan\n",
            " 0.92099251 0.97599322 0.97487356 0.9759901  0.92378503 0.92099251\n",
            "        nan        nan 0.98017771        nan 0.92155117 0.97599322\n",
            " 0.97515367 0.9759901  0.92406358 0.92155117        nan        nan\n",
            " 0.98017771        nan 0.92210983 0.97599322 0.97487434 0.9759901\n",
            " 0.92490002 0.92210983        nan        nan 0.99972145        nan\n",
            " 0.90731392 0.98213224 0.95365852 0.97934128 0.91764212 0.90731392\n",
            "        nan        nan 0.99972145        nan 0.91736279 0.98213224\n",
            " 0.97040974 0.97934128 0.92127184 0.91736279        nan        nan\n",
            " 1.                nan 0.92099251 0.98213224 0.97654876 0.97934128\n",
            " 0.9218305  0.92099251        nan        nan 0.99972145        nan\n",
            " 0.92155117 0.98213224 0.97794619 0.97934128 0.92266927 0.92155117\n",
            "        nan        nan 0.99972145        nan 0.92099251 0.98213224\n",
            " 0.97794463 0.97934128 0.92378503 0.92099251        nan        nan\n",
            " 0.99972145        nan 0.92155117 0.98213224 0.97710898 0.97934128\n",
            " 0.92406358 0.92155117        nan        nan 0.99972067        nan\n",
            " 0.92210983 0.98213224 0.97850407 0.97934128 0.92490002 0.92210983\n",
            "        nan        nan 1.                nan 0.90731392 0.99330154\n",
            " 0.95588693 0.98185447 0.91764212 0.90731392        nan        nan\n",
            " 1.                nan 0.91736279 0.99413875 0.97180171 0.98185447\n",
            " 0.92127184 0.91736279        nan        nan 1.                nan\n",
            " 0.92099251 0.99413875 0.97682809 0.98185447 0.92155117 0.92099251\n",
            "        nan        nan 1.                nan 0.92155117 0.99413875\n",
            " 0.97682887 0.98185447 0.92266927 0.92155117        nan        nan\n",
            " 1.                nan 0.92099251 0.99413875 0.97682731 0.98185447\n",
            " 0.92378503 0.92099251        nan        nan 1.                nan\n",
            " 0.92155117 0.99413875 0.97738675 0.98185447 0.92406358 0.92155117\n",
            "        nan        nan 1.                nan 0.92210983 0.99413875\n",
            " 0.97738675 0.98185447 0.92490002 0.92210983]\n",
            "  warnings.warn(\n"
          ]
        },
        {
          "output_type": "stream",
          "name": "stdout",
          "text": [
            "{'C': 1000, 'max_iter': 200, 'penalty': 'l1', 'solver': 'liblinear'}\n"
          ]
        }
      ],
      "source": [
        "#code\n",
        "\n",
        "logistic_regression = LogisticRegression()\n",
        "_findBestHeperParam(LRLRgrid_params, logistic_regression)"
      ]
    },
    {
      "cell_type": "markdown",
      "metadata": {
        "id": "3NjSLo5jB1xY"
      },
      "source": [
        "*   2.4. Apply **GridSearchCV** to **RandomForest**"
      ]
    },
    {
      "cell_type": "code",
      "execution_count": null,
      "metadata": {
        "id": "nktGtM0PB7XB",
        "colab": {
          "base_uri": "https://localhost:8080/"
        },
        "outputId": "d346b81b-b31b-40ba-bf35-f152b463f23e"
      },
      "outputs": [
        {
          "output_type": "stream",
          "name": "stdout",
          "text": [
            "{'max_depth': 9, 'max_features': 'sqrt', 'max_leaf_nodes': 9, 'n_estimators': 100}\n"
          ]
        }
      ],
      "source": [
        "#code\n",
        "rf = RandomForestClassifier()\n",
        "_findBestHeperParam(RFgrid_params, rf)\n"
      ]
    },
    {
      "cell_type": "markdown",
      "metadata": {
        "id": "NZJ3BSHpB9Dx"
      },
      "source": [
        "*   2.5. Compare the best obtained results among classification algorithms (use PrettyTable to dispaly the results)"
      ]
    },
    {
      "cell_type": "code",
      "execution_count": null,
      "metadata": {
        "id": "8LS_IYfNCFEj",
        "colab": {
          "base_uri": "https://localhost:8080/"
        },
        "outputId": "30db089c-59a6-4606-869b-1088be079e97"
      },
      "outputs": [
        {
          "output_type": "stream",
          "name": "stdout",
          "text": [
            "+---------------------------------------+--------------------+--------------------+--------------------+--------------------+\n",
            "|               Algorithms              |     Accurance      |     Precision      |       Recall       |     F1 measure     |\n",
            "+---------------------------------------+--------------------+--------------------+--------------------+--------------------+\n",
            "|           GridSearchCV - SVC          | 0.9590643274853801 | 0.963691159586682  | 0.9532828282828283 | 0.9575787645745473 |\n",
            "|  GridSearchCV - KNeighborsClassifier  | 0.935672514619883  | 0.939150401836969  | 0.9292929292929293 | 0.9333380586171456 |\n",
            "|   GridSearchCV - LogisticRegression   | 0.9473684210526315 | 0.9453452613922281 | 0.946969696969697  | 0.9461228776474707 |\n",
            "| GridSearchCV - RandomForestClassifier | 0.9590643274853801 | 0.963691159586682  | 0.9532828282828283 | 0.9575787645745473 |\n",
            "+---------------------------------------+--------------------+--------------------+--------------------+--------------------+\n"
          ]
        }
      ],
      "source": [
        "#code\n",
        "print(t)"
      ]
    },
    {
      "cell_type": "markdown",
      "metadata": {
        "id": "az26oYW1Yxuz"
      },
      "source": [
        "#Task 3. With **mobile price classification** dataset\n",
        "* 3.1.  Apply **GridSearchCV** for **SVM, kNN, RandomForest** algorithms to find the best hyperparameters for each classification algorithm.\n",
        "* 3.2. Compare the best obtained results among classification algorithms (use PrettyTable to dispaly the results)"
      ]
    },
    {
      "cell_type": "code",
      "execution_count": null,
      "metadata": {
        "id": "_jsYpiNYWxXK",
        "colab": {
          "base_uri": "https://localhost:8080/"
        },
        "outputId": "670e1387-34e2-436f-c118-9a677ff432ff"
      },
      "outputs": [
        {
          "output_type": "stream",
          "name": "stdout",
          "text": [
            "{'C': 1, 'gamma': 1, 'kernel': 'linear'}\n",
            "{'metric': 'manhattan', 'n_neighbors': 13, 'weights': 'distance'}\n",
            "{'max_depth': 9, 'max_features': 'log2', 'max_leaf_nodes': 9, 'n_estimators': 150}\n",
            "+---------------------------------------+--------------------+--------------------+--------------------+--------------------+\n",
            "|               Algorithms              |     Accurance      |     Precision      |       Recall       |     F1 measure     |\n",
            "+---------------------------------------+--------------------+--------------------+--------------------+--------------------+\n",
            "|           GridSearchCV - SVC          | 0.9683333333333334 | 0.9693287169291009 | 0.968074931277976  | 0.9685993189012225 |\n",
            "|  GridSearchCV - KNeighborsClassifier  | 0.9116666666666666 | 0.9113564456456332 | 0.9127788373463922 | 0.9116923908220079 |\n",
            "| GridSearchCV - RandomForestClassifier |        0.81        | 0.8130478927203064 | 0.8171176135890262 | 0.8084362495118457 |\n",
            "+---------------------------------------+--------------------+--------------------+--------------------+--------------------+\n"
          ]
        }
      ],
      "source": [
        "#code\n",
        "datasetTrain = pd.read_csv(\"mobile_train.csv\")\n",
        "datasetTest = pd.read_csv(\"mobile_test.csv\")\n",
        "dataX = datasetTrain.drop(\"price_range\",axis=1)\n",
        "dataY = datasetTrain.get(\"price_range\")\n",
        "\n",
        "X_train, X_test, y_train, y_test = train_test_split(dataX, dataY, test_size=0.3, shuffle=True)\n",
        "\n",
        "t = PrettyTable(['Algorithms', 'Accurance', 'Precision', 'Recall','F1 measure'])\n",
        "\n",
        "svm_l = svm.SVC()\n",
        "_findBestHeperParam(SMVgrid_params, svm_l)\n",
        "\n",
        "knn = KNeighborsClassifier();\n",
        "_findBestHeperParam(kNNgrid_params, knn)\n",
        "\n",
        "rf = RandomForestClassifier()\n",
        "_findBestHeperParam(RFgrid_params, rf)\n",
        "\n",
        "print(t)"
      ]
    },
    {
      "cell_type": "markdown",
      "metadata": {
        "id": "b52OPWPD2afi"
      },
      "source": [
        "#Task 4.\n",
        "The dataset consists of **2000 user-created movie reviews** archived on the IMDb(Internet Movie Database). The reviews are equally partitioned into a positive set and a negative set (1000+1000). Each review consists of a plain text file (.txt) and a class label representing the overall user opinion.\n",
        "The class attribute has only two values: **pos** (positive) or **neg** (negative).\n"
      ]
    },
    {
      "cell_type": "markdown",
      "metadata": {
        "id": "lDcxOQRmDz_h"
      },
      "source": [
        "*   4.1 Importing additional libraries"
      ]
    },
    {
      "cell_type": "code",
      "execution_count": 6,
      "metadata": {
        "id": "ZjyW06skDwvL",
        "colab": {
          "base_uri": "https://localhost:8080/"
        },
        "outputId": "a0ea13d0-89fe-4e41-9192-3b0bc8e03708"
      },
      "outputs": [
        {
          "output_type": "stream",
          "name": "stderr",
          "text": [
            "[nltk_data] Downloading package movie_reviews to /root/nltk_data...\n",
            "[nltk_data]   Unzipping corpora/movie_reviews.zip.\n"
          ]
        }
      ],
      "source": [
        "import nltk, random\n",
        "nltk.download('movie_reviews')#download movie reviews dataset\n",
        "from nltk.corpus import movie_reviews\n",
        "import pandas as pd\n",
        "import matplotlib.pyplot as plt\n",
        "import numpy as np\n",
        "from sklearn.model_selection import cross_val_score\n",
        "from collections import Counter\n",
        "from sklearn.model_selection import train_test_split"
      ]
    },
    {
      "cell_type": "markdown",
      "metadata": {
        "id": "RJpsTIiyv-1h"
      },
      "source": [
        "*   4.2. Movie reviews information"
      ]
    },
    {
      "cell_type": "code",
      "execution_count": null,
      "metadata": {
        "id": "5ZE7A0Au1Pg0"
      },
      "outputs": [],
      "source": [
        "#code\n",
        "print(len(movie_reviews.fileids()))\n",
        "print(movie_reviews.categories())\n",
        "print(movie_reviews.words()[:100])\n",
        "print(movie_reviews.fileids()[:10])"
      ]
    },
    {
      "cell_type": "markdown",
      "metadata": {
        "id": "6pHmMpqMHS23"
      },
      "source": [
        "*   4.3. Create dataset from movie reviews"
      ]
    },
    {
      "cell_type": "code",
      "execution_count": 7,
      "metadata": {
        "id": "45aY6woMHSH5"
      },
      "outputs": [],
      "source": [
        "documents = [(list(movie_reviews.words(fileid)), category)\n",
        "             for category in movie_reviews.categories()\n",
        "             for fileid in movie_reviews.fileids(category)]\n",
        "random.seed(123)\n",
        "random.shuffle(documents)"
      ]
    },
    {
      "cell_type": "code",
      "execution_count": null,
      "metadata": {
        "id": "NNke0Da5HqFa"
      },
      "outputs": [],
      "source": [
        "print('Number of Reviews/Documents: {}'.format(len(documents)))\n",
        "print('Corpus Size (words): {}'.format(np.sum([len(d) for (d,l) in documents])))\n",
        "print('Sample Text of Doc 1:')\n",
        "print('-'*30)\n",
        "print(' '.join(documents[0][0][:50])) # first 50 words of the first document"
      ]
    },
    {
      "cell_type": "code",
      "execution_count": 8,
      "metadata": {
        "id": "vVFUEhnXHsGd",
        "colab": {
          "base_uri": "https://localhost:8080/"
        },
        "outputId": "6a53e3f4-20cb-4666-c65d-42ad772eb9e2"
      },
      "outputs": [
        {
          "output_type": "stream",
          "name": "stdout",
          "text": [
            "Counter({'pos': 1000, 'neg': 1000})\n"
          ]
        }
      ],
      "source": [
        "sentiment_distr = Counter([label for (words, label) in documents])\n",
        "print(sentiment_distr)"
      ]
    },
    {
      "cell_type": "markdown",
      "metadata": {
        "id": "jTXiEbMzHgVC"
      },
      "source": [
        "*   4.4. Train test split"
      ]
    },
    {
      "cell_type": "code",
      "execution_count": 9,
      "metadata": {
        "id": "v_-0gZZFHvJN"
      },
      "outputs": [],
      "source": [
        "train, test = train_test_split(documents, test_size = 0.33, random_state=42)"
      ]
    },
    {
      "cell_type": "code",
      "execution_count": null,
      "metadata": {
        "id": "UUGlm5TGHvpV"
      },
      "outputs": [],
      "source": [
        "## Sentiment Distrubtion for Train and Test\n",
        "print(Counter([label for (words, label) in train]))\n",
        "print(Counter([label for (words, label) in test]))"
      ]
    },
    {
      "cell_type": "code",
      "execution_count": 10,
      "metadata": {
        "id": "l1ppl_0RHx1P"
      },
      "outputs": [],
      "source": [
        "X_train = [' '.join(words) for (words, label) in train]\n",
        "X_test = [' '.join(words) for (words, label) in test]\n",
        "y_train = [label for (words, label) in train]\n",
        "y_test = [label for (words, label) in test]"
      ]
    },
    {
      "cell_type": "code",
      "source": [
        "X_train\n"
      ],
      "metadata": {
        "colab": {
          "base_uri": "https://localhost:8080/"
        },
        "id": "bV-YZYxYEuXe",
        "outputId": "4b13acbc-fc38-46de-bfe2-a321a14a6608"
      },
      "execution_count": null,
      "outputs": [
        {
          "output_type": "execute_result",
          "data": {
            "text/plain": [
              "array([[0.11906061, 0.        , 0.        , ..., 0.        , 0.        ,\n",
              "        0.        ],\n",
              "       [0.14474233, 0.        , 0.        , ..., 0.        , 0.        ,\n",
              "        0.        ],\n",
              "       [0.16450792, 0.        , 0.        , ..., 0.        , 0.        ,\n",
              "        0.        ],\n",
              "       ...,\n",
              "       [0.1560616 , 0.        , 0.        , ..., 0.        , 0.        ,\n",
              "        0.        ],\n",
              "       [0.14605465, 0.        , 0.        , ..., 0.        , 0.        ,\n",
              "        0.        ],\n",
              "       [0.16944372, 0.        , 0.        , ..., 0.        , 0.1546671 ,\n",
              "        0.        ]])"
            ]
          },
          "metadata": {},
          "execution_count": 21
        }
      ]
    },
    {
      "cell_type": "markdown",
      "metadata": {
        "id": "7xUaXrjxH6Ee"
      },
      "source": [
        "*   4.5. Text Vectorization"
      ]
    },
    {
      "cell_type": "code",
      "execution_count": 11,
      "metadata": {
        "id": "fzwM0nsIH-8l"
      },
      "outputs": [],
      "source": [
        "from sklearn.feature_extraction.text import CountVectorizer, TfidfVectorizer\n",
        "\n",
        "tfidf_vec = TfidfVectorizer(min_df = 10, token_pattern = r'[a-zA-Z]+')\n",
        "X_train = tfidf_vec.fit_transform(X_train).toarray() # fit train\n",
        "X_test = tfidf_vec.transform(X_test).toarray() # transform test\n",
        "\n",
        "\n",
        "\n"
      ]
    },
    {
      "cell_type": "code",
      "source": [],
      "metadata": {
        "id": "7ahWVHSoI8FA"
      },
      "execution_count": null,
      "outputs": []
    },
    {
      "cell_type": "markdown",
      "metadata": {
        "id": "BP1vB3loIF28"
      },
      "source": [
        "*   4.6. Apply **SVM** with **GridSearchCV**"
      ]
    },
    {
      "cell_type": "code",
      "execution_count": 13,
      "metadata": {
        "id": "b3FHQqh1Hlrd",
        "colab": {
          "base_uri": "https://localhost:8080/"
        },
        "outputId": "77257be8-beff-4346-96f8-3ee9c64bd379"
      },
      "outputs": [
        {
          "output_type": "stream",
          "name": "stdout",
          "text": [
            "{'C': 10, 'gamma': 0.1, 'kernel': 'rbf'}\n"
          ]
        }
      ],
      "source": [
        "#code\n",
        "t = PrettyTable(['Algorithms', 'Accurance', 'Precision', 'Recall','F1 measure'])\n",
        "\n",
        "svm_l = svm.SVC()\n",
        "_findBestHeperParam(SMVgrid_params, svm_l)\n",
        "\n",
        "\n"
      ]
    },
    {
      "cell_type": "markdown",
      "metadata": {
        "id": "N1Fy8jYBIdxi"
      },
      "source": [
        "*   4.7. Apply **RandomForest** with **GridSearchCV**"
      ]
    },
    {
      "cell_type": "code",
      "execution_count": null,
      "metadata": {
        "id": "Fyfw2R-gIhWl",
        "colab": {
          "base_uri": "https://localhost:8080/"
        },
        "outputId": "5a7950b4-68f5-4bfa-95a5-f7edcf8fecdd"
      },
      "outputs": [
        {
          "output_type": "stream",
          "name": "stdout",
          "text": [
            "{'max_depth': 9, 'max_features': 'sqrt', 'max_leaf_nodes': 6, 'n_estimators': 150}\n"
          ]
        }
      ],
      "source": [
        "#code\n",
        "rf = RandomForestClassifier()\n",
        "_findBestHeperParam(RFgrid_params, rf)"
      ]
    },
    {
      "cell_type": "markdown",
      "metadata": {
        "id": "_btsVKjIIiLT"
      },
      "source": [
        "*   4.8. Apply **kNN** with **GridSearchCV**"
      ]
    },
    {
      "cell_type": "code",
      "execution_count": null,
      "metadata": {
        "id": "IZmFu1ZQImhn",
        "colab": {
          "base_uri": "https://localhost:8080/"
        },
        "outputId": "3be7059f-339a-4f4d-e349-f073321ec31c"
      },
      "outputs": [
        {
          "output_type": "stream",
          "name": "stdout",
          "text": [
            "{'metric': 'minkowski', 'n_neighbors': 15, 'weights': 'distance'}\n"
          ]
        }
      ],
      "source": [
        "#code\n",
        "knn = KNeighborsClassifier();\n",
        "_findBestHeperParam(kNNgrid_params, knn)\n",
        "\n"
      ]
    },
    {
      "cell_type": "markdown",
      "metadata": {
        "id": "0Ix_HeVGIvDu"
      },
      "source": [
        "*   4.9. Apply **LogisticRegression** with **GridSearchCV**"
      ]
    },
    {
      "cell_type": "code",
      "execution_count": 12,
      "metadata": {
        "id": "sTd3alCMIr-i",
        "colab": {
          "base_uri": "https://localhost:8080/"
        },
        "outputId": "82d2e2ae-90f6-4318-8406-edec7ac80572"
      },
      "outputs": [
        {
          "metadata": {
            "tags": null
          },
          "name": "stderr",
          "output_type": "stream",
          "text": [
            "/usr/local/lib/python3.10/dist-packages/sklearn/model_selection/_validation.py:378: FitFailedWarning: \n",
            "840 fits failed out of a total of 2800.\n",
            "The score on these train-test partitions for these parameters will be set to nan.\n",
            "If these failures are not expected, you can try to debug them by setting error_score='raise'.\n",
            "\n",
            "Below are more details about the failures:\n",
            "--------------------------------------------------------------------------------\n",
            "280 fits failed with the following error:\n",
            "Traceback (most recent call last):\n",
            "  File \"/usr/local/lib/python3.10/dist-packages/sklearn/model_selection/_validation.py\", line 686, in _fit_and_score\n",
            "    estimator.fit(X_train, y_train, **fit_params)\n",
            "  File \"/usr/local/lib/python3.10/dist-packages/sklearn/linear_model/_logistic.py\", line 1162, in fit\n",
            "    solver = _check_solver(self.solver, self.penalty, self.dual)\n",
            "  File \"/usr/local/lib/python3.10/dist-packages/sklearn/linear_model/_logistic.py\", line 54, in _check_solver\n",
            "    raise ValueError(\n",
            "ValueError: Solver newton-cg supports only 'l2' or 'none' penalties, got l1 penalty.\n",
            "\n",
            "--------------------------------------------------------------------------------\n",
            "280 fits failed with the following error:\n",
            "Traceback (most recent call last):\n",
            "  File \"/usr/local/lib/python3.10/dist-packages/sklearn/model_selection/_validation.py\", line 686, in _fit_and_score\n",
            "    estimator.fit(X_train, y_train, **fit_params)\n",
            "  File \"/usr/local/lib/python3.10/dist-packages/sklearn/linear_model/_logistic.py\", line 1162, in fit\n",
            "    solver = _check_solver(self.solver, self.penalty, self.dual)\n",
            "  File \"/usr/local/lib/python3.10/dist-packages/sklearn/linear_model/_logistic.py\", line 54, in _check_solver\n",
            "    raise ValueError(\n",
            "ValueError: Solver lbfgs supports only 'l2' or 'none' penalties, got l1 penalty.\n",
            "\n",
            "--------------------------------------------------------------------------------\n",
            "280 fits failed with the following error:\n",
            "Traceback (most recent call last):\n",
            "  File \"/usr/local/lib/python3.10/dist-packages/sklearn/model_selection/_validation.py\", line 686, in _fit_and_score\n",
            "    estimator.fit(X_train, y_train, **fit_params)\n",
            "  File \"/usr/local/lib/python3.10/dist-packages/sklearn/linear_model/_logistic.py\", line 1162, in fit\n",
            "    solver = _check_solver(self.solver, self.penalty, self.dual)\n",
            "  File \"/usr/local/lib/python3.10/dist-packages/sklearn/linear_model/_logistic.py\", line 54, in _check_solver\n",
            "    raise ValueError(\n",
            "ValueError: Solver sag supports only 'l2' or 'none' penalties, got l1 penalty.\n",
            "\n",
            "  warnings.warn(some_fits_failed_message, FitFailedWarning)\n",
            "/usr/local/lib/python3.10/dist-packages/sklearn/model_selection/_search.py:952: UserWarning: One or more of the test scores are non-finite: [       nan        nan 0.50298507        nan 0.50149254 0.75820896\n",
            " 0.75820896 0.7619403  0.75820896 0.75820896        nan        nan\n",
            " 0.50298507        nan 0.50149254 0.75820896 0.75820896 0.7619403\n",
            " 0.75895522 0.75820896        nan        nan 0.50298507        nan\n",
            " 0.50298507 0.75820896 0.75820896 0.7619403  0.75820896 0.75820896\n",
            "        nan        nan 0.50298507        nan 0.50149254 0.75820896\n",
            " 0.75820896 0.7619403  0.75820896 0.75820896        nan        nan\n",
            " 0.50298507        nan 0.50298507 0.75820896 0.75820896 0.7619403\n",
            " 0.75820896 0.75820896        nan        nan 0.50298507        nan\n",
            " 0.50298507 0.75820896 0.75820896 0.7619403  0.75820896 0.75820896\n",
            "        nan        nan 0.50298507        nan 0.50298507 0.75820896\n",
            " 0.75820896 0.7619403  0.75820896 0.75820896        nan        nan\n",
            " 0.72761194        nan 0.72835821 0.81865672 0.81865672 0.81940299\n",
            " 0.81865672 0.81865672        nan        nan 0.72761194        nan\n",
            " 0.72835821 0.81865672 0.81865672 0.81940299 0.81865672 0.81865672\n",
            "        nan        nan 0.72761194        nan 0.72835821 0.81865672\n",
            " 0.81865672 0.81940299 0.81865672 0.81865672        nan        nan\n",
            " 0.72761194        nan 0.72835821 0.81865672 0.81865672 0.81940299\n",
            " 0.81865672 0.81865672        nan        nan 0.72761194        nan\n",
            " 0.72835821 0.81865672 0.81865672 0.81940299 0.81865672 0.81865672\n",
            "        nan        nan 0.72761194        nan 0.72835821 0.81865672\n",
            " 0.81865672 0.81940299 0.81865672 0.81865672        nan        nan\n",
            " 0.72761194        nan 0.72835821 0.81865672 0.81865672 0.81940299\n",
            " 0.81865672 0.81865672        nan        nan 0.81716418        nan\n",
            " 0.82313433 0.85149254 0.85149254 0.85298507 0.85149254 0.85149254\n",
            "        nan        nan 0.81716418        nan 0.81940299 0.85149254\n",
            " 0.85149254 0.85298507 0.85149254 0.85149254        nan        nan\n",
            " 0.81716418        nan 0.81343284 0.85149254 0.85149254 0.85298507\n",
            " 0.85149254 0.85149254        nan        nan 0.81716418        nan\n",
            " 0.8119403  0.85149254 0.85149254 0.85298507 0.85149254 0.85149254\n",
            "        nan        nan 0.81716418        nan 0.81343284 0.85149254\n",
            " 0.85149254 0.85298507 0.85149254 0.85149254        nan        nan\n",
            " 0.81716418        nan 0.81791045 0.85149254 0.85149254 0.85298507\n",
            " 0.85149254 0.85149254        nan        nan 0.81716418        nan\n",
            " 0.81716418 0.85149254 0.85149254 0.85298507 0.85149254 0.85149254\n",
            "        nan        nan 0.80671642        nan 0.84477612 0.84776119\n",
            " 0.84776119 0.84701493 0.84925373 0.84552239        nan        nan\n",
            " 0.80597015        nan 0.84253731 0.84776119 0.84776119 0.84701493\n",
            " 0.84850746 0.84850746        nan        nan 0.80671642        nan\n",
            " 0.84328358 0.84776119 0.84776119 0.84701493 0.84850746 0.84850746\n",
            "        nan        nan 0.80671642        nan 0.84328358 0.84776119\n",
            " 0.84776119 0.84701493 0.84701493 0.84850746        nan        nan\n",
            " 0.80746269        nan 0.84179104 0.84776119 0.84776119 0.84701493\n",
            " 0.84776119 0.84850746        nan        nan 0.80671642        nan\n",
            " 0.83955224 0.84776119 0.84776119 0.84701493 0.84850746 0.84850746\n",
            "        nan        nan 0.80671642        nan 0.83656716 0.84776119\n",
            " 0.84776119 0.84701493 0.84850746 0.84701493]\n",
            "  warnings.warn(\n",
            "/usr/local/lib/python3.10/dist-packages/sklearn/model_selection/_search.py:952: UserWarning: One or more of the train scores are non-finite: [       nan        nan 0.50298507        nan 0.50182421 0.8407131\n",
            " 0.8407131  0.84461028 0.8407131  0.8407131         nan        nan\n",
            " 0.50298507        nan 0.50248756 0.8407131  0.8407131  0.84461028\n",
            " 0.8407131  0.8407131         nan        nan 0.50298507        nan\n",
            " 0.50298507 0.8407131  0.8407131  0.84461028 0.84063018 0.84063018\n",
            "        nan        nan 0.50298507        nan 0.50248756 0.8407131\n",
            " 0.8407131  0.84461028 0.8407131  0.8407131         nan        nan\n",
            " 0.50298507        nan 0.50298507 0.8407131  0.8407131  0.84461028\n",
            " 0.8407131  0.8407131         nan        nan 0.50298507        nan\n",
            " 0.50232172 0.8407131  0.8407131  0.84461028 0.84063018 0.8407131\n",
            "        nan        nan 0.50298507        nan 0.50165837 0.8407131\n",
            " 0.8407131  0.84461028 0.84063018 0.8407131         nan        nan\n",
            " 0.76094527        nan 0.76127695 0.9340796  0.9340796  0.93524046\n",
            " 0.9340796  0.9340796         nan        nan 0.76094527        nan\n",
            " 0.76144279 0.9340796  0.9340796  0.93524046 0.93399668 0.9340796\n",
            "        nan        nan 0.76094527        nan 0.76127695 0.9340796\n",
            " 0.9340796  0.93524046 0.93399668 0.9340796         nan        nan\n",
            " 0.76094527        nan 0.76135987 0.9340796  0.9340796  0.93524046\n",
            " 0.9340796  0.9340796         nan        nan 0.76094527        nan\n",
            " 0.76135987 0.9340796  0.9340796  0.93524046 0.93399668 0.9340796\n",
            "        nan        nan 0.76094527        nan 0.76127695 0.9340796\n",
            " 0.9340796  0.93524046 0.93399668 0.9340796         nan        nan\n",
            " 0.76094527        nan 0.76135987 0.9340796  0.9340796  0.93524046\n",
            " 0.93399668 0.9340796         nan        nan 0.99850746        nan\n",
            " 0.99792703 0.99925373 0.99925373 0.99925373 0.99925373 0.99925373\n",
            "        nan        nan 0.99850746        nan 0.99817579 0.99925373\n",
            " 0.99925373 0.99925373 0.99925373 0.99925373        nan        nan\n",
            " 0.99850746        nan 0.99825871 0.99925373 0.99925373 0.99925373\n",
            " 0.99925373 0.99925373        nan        nan 0.99850746        nan\n",
            " 0.99850746 0.99925373 0.99925373 0.99925373 0.99925373 0.99925373\n",
            "        nan        nan 0.99850746        nan 0.99834163 0.99925373\n",
            " 0.99925373 0.99925373 0.99925373 0.99925373        nan        nan\n",
            " 0.99850746        nan 0.99834163 0.99925373 0.99925373 0.99925373\n",
            " 0.99925373 0.99925373        nan        nan 0.99850746        nan\n",
            " 0.99842454 0.99925373 0.99925373 0.99925373 0.99925373 0.99925373\n",
            "        nan        nan 1.                nan 1.         1.\n",
            " 1.         1.         1.         1.                nan        nan\n",
            " 1.                nan 1.         1.         1.         1.\n",
            " 1.         1.                nan        nan 1.                nan\n",
            " 1.         1.         1.         1.         1.         1.\n",
            "        nan        nan 1.                nan 1.         1.\n",
            " 1.         1.         1.         1.                nan        nan\n",
            " 1.                nan 1.         1.         1.         1.\n",
            " 1.         1.                nan        nan 1.                nan\n",
            " 1.         1.         1.         1.         1.         1.\n",
            "        nan        nan 1.                nan 1.         1.\n",
            " 1.         1.         1.         1.        ]\n",
            "  warnings.warn(\n"
          ]
        },
        {
          "metadata": {
            "tags": null
          },
          "name": "stdout",
          "output_type": "stream",
          "text": [
            "{'C': 10, 'max_iter': 100, 'penalty': 'l2', 'solver': 'liblinear'}\n"
          ]
        }
      ],
      "source": [
        "#code\n",
        "logistic_regression = LogisticRegression()\n",
        "_findBestHeperParam(LRLRgrid_params, logistic_regression)"
      ]
    },
    {
      "cell_type": "markdown",
      "metadata": {
        "id": "nhYF2y6eI058"
      },
      "source": [
        "*   4.10. Compare the best obtained results among classification algorithms (use PrettyTable to dispaly the results)"
      ]
    },
    {
      "cell_type": "code",
      "source": [
        "t = PrettyTable(['Algorithms', 'Accurance', 'Precision', 'Recall','F1 measure'])\n",
        "\n",
        "svm_l = svm.SVC(C= 10, gamma= 0.1, kernel= 'rbf')\n",
        "rf = RandomForestClassifier(max_depth= 9, max_features= 'sqrt', max_leaf_nodes= 6, n_estimators= 150)\n",
        "knn = KNeighborsClassifier(metric='minkowski', n_neighbors=15, weights='distance')\n",
        "logistic_regression = LogisticRegression(C= 10, max_iter= 100, penalty='l2', solver='liblinear')\n",
        "algos=[svm_l, rf, knn, logistic_regression]\n",
        "for algo in algos:\n",
        "  algo.fit(X_train, y_train)\n",
        "  y_pred = algo.predict(X_test)\n",
        "  _insertTable(t, \"GridSearchCV - \"+algo.__class__.__name__, y_test, y_pred )\n",
        "print(t)\n"
      ],
      "metadata": {
        "colab": {
          "base_uri": "https://localhost:8080/"
        },
        "id": "CMfEmfqxGyLl",
        "outputId": "b5b321a2-af0e-475b-8074-e79cb0aa4d96"
      },
      "execution_count": 18,
      "outputs": [
        {
          "output_type": "stream",
          "name": "stdout",
          "text": [
            "+---------------------------------------+--------------------+--------------------+--------------------+--------------------+\n",
            "|               Algorithms              |     Accurance      |     Precision      |       Recall       |     F1 measure     |\n",
            "+---------------------------------------+--------------------+--------------------+--------------------+--------------------+\n",
            "|           GridSearchCV - SVC          | 0.8121212121212121 | 0.8122242647058824 | 0.8119833951728446 | 0.8120366372380594 |\n",
            "| GridSearchCV - RandomForestClassifier | 0.7848484848484848 | 0.7848689771766695 | 0.7847433966422982 | 0.7847773368606701 |\n",
            "|  GridSearchCV - KNeighborsClassifier  | 0.6348484848484849 | 0.677148782264137  | 0.6318008155468204 | 0.6085727152591675 |\n",
            "|   GridSearchCV - LogisticRegression   | 0.8242424242424242 | 0.8245694730644686 | 0.8240329157635649 | 0.8241115981584098 |\n",
            "+---------------------------------------+--------------------+--------------------+--------------------+--------------------+\n"
          ]
        }
      ]
    },
    {
      "cell_type": "markdown",
      "metadata": {
        "id": "Ok7RGkea_b7n"
      },
      "source": [
        "#Finally,\n",
        "Save a copy in your Github. Remember renaming the notebook."
      ]
    }
  ],
  "metadata": {
    "colab": {
      "provenance": [],
      "include_colab_link": true
    },
    "kernelspec": {
      "display_name": "Python 3",
      "name": "python3"
    },
    "language_info": {
      "name": "python"
    }
  },
  "nbformat": 4,
  "nbformat_minor": 0
}