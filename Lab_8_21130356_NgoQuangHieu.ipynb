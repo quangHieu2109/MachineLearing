{
  "cells": [
    {
      "cell_type": "markdown",
      "metadata": {
        "id": "view-in-github",
        "colab_type": "text"
      },
      "source": [
        "<a href=\"https://colab.research.google.com/github/quangHieu2109/MachineLearing/blob/main/Lab_8_21130356_NgoQuangHieu.ipynb\" target=\"_parent\"><img src=\"https://colab.research.google.com/assets/colab-badge.svg\" alt=\"Open In Colab\"/></a>"
      ]
    },
    {
      "cell_type": "markdown",
      "metadata": {
        "id": "LMzehe0sy5wr"
      },
      "source": [
        "The main aim of this lab is to deal with the **pipeline** technique and **MultilayerPerceptron** algorithm\n",
        "\n",
        "*   **Deadline: 23:59, 06/5/2024**\n",
        "\n"
      ]
    },
    {
      "cell_type": "markdown",
      "metadata": {
        "id": "H4nJmxp9zGX4"
      },
      "source": [
        "# Import libraries"
      ]
    },
    {
      "cell_type": "code",
      "execution_count": 1,
      "metadata": {
        "id": "DoVWQ8AEyc-C",
        "colab": {
          "base_uri": "https://localhost:8080/"
        },
        "outputId": "d53a3384-1c93-4b87-f588-46b0882c1b05"
      },
      "outputs": [
        {
          "output_type": "stream",
          "name": "stdout",
          "text": [
            "Mounted at /content/gdrive\n",
            "/content/gdrive/MyDrive/ML/dataset\n"
          ]
        }
      ],
      "source": [
        "# code\n",
        "import numpy as np\n",
        "import pandas as pd\n",
        "import matplotlib.pyplot as plt\n",
        "import seaborn as sns\n",
        "from sklearn.impute import SimpleImputer\n",
        "from sklearn import preprocessing\n",
        "from sklearn.preprocessing import StandardScaler\n",
        "from sklearn.model_selection import train_test_split\n",
        "from sklearn.neighbors import KNeighborsClassifier\n",
        "from sklearn.ensemble import RandomForestClassifier\n",
        "from sklearn import metrics\n",
        "from prettytable import PrettyTable\n",
        "from sklearn import svm\n",
        "from sklearn.linear_model import LinearRegression,LogisticRegression\n",
        "from sklearn.tree import DecisionTreeClassifier\n",
        "from sklearn.metrics import classification_report, confusion_matrix\n",
        "from sklearn.metrics import accuracy_score\n",
        "from sklearn.metrics import precision_score\n",
        "from sklearn.metrics import recall_score\n",
        "from sklearn.metrics import f1_score\n",
        "from sklearn.naive_bayes import GaussianNB\n",
        "from sklearn.preprocessing import OneHotEncoder\n",
        "from sklearn.preprocessing import LabelEncoder\n",
        "from sklearn import datasets\n",
        "from sklearn.model_selection import GridSearchCV\n",
        "from sklearn.pipeline import Pipeline\n",
        "from sklearn.decomposition import PCA\n",
        "from sklearn.neural_network import MLPClassifier\n",
        "\n",
        "from google.colab import drive\n",
        "drive.mount('/content/gdrive')\n",
        "%cd '/content/gdrive/MyDrive/ML/dataset'"
      ]
    },
    {
      "cell_type": "markdown",
      "metadata": {
        "id": "x_dG9SA5OhGT"
      },
      "source": [
        "#Task 1. With **iris** dataset\n",
        "*  Apply **pipeline** including preprocessing steps (i.e., **StandardScaler**, **SimpleImputer**, **feature selection**, **KBinsDiscretizer**, …) and classification algorithms (i.e., **Random forest, kNN, Naïve Bayes**).\n"
      ]
    },
    {
      "cell_type": "code",
      "execution_count": 10,
      "metadata": {
        "id": "Nzrrherc5t1e"
      },
      "outputs": [],
      "source": [
        "def _insertTable(t, nameAlg, y_test, y_pred):\n",
        "  t.add_row([nameAlg, metrics.accuracy_score(y_test, y_pred), metrics.precision_score(y_test, y_pred, average='macro')\n",
        "  ,metrics.recall_score(y_test, y_pred, average='macro'),metrics.f1_score(y_test, y_pred, average='macro')])\n",
        "def _trainModel( algos, t):\n",
        "  for algo in algos:\n",
        "    pipe_lr = Pipeline(\n",
        "    [('scl', StandardScaler()),\n",
        "    ('pca', PCA(n_components=4)),\n",
        "    (algo.__class__.__name__, algo)]);\n",
        "    pipe_lr.fit(X_train, y_train)\n",
        "    y_pred = pipe_lr.predict(X_test)\n",
        "    _insertTable(t, \"pipeline - \"+algo.__class__.__name__, y_test, y_pred )\n",
        "def _comparePerformance(t, algos):\n",
        "  for algo in algos:\n",
        "    algo.fit(X_train, y_train)\n",
        "    y_pred = algo.predict(X_test)\n",
        "    _insertTable(t, algo.__class__.__name__, y_test, y_pred)\n",
        "\n"
      ]
    },
    {
      "cell_type": "code",
      "execution_count": null,
      "metadata": {
        "colab": {
          "base_uri": "https://localhost:8080/"
        },
        "id": "62jExOZ952fF",
        "outputId": "659c01d3-29a0-46c1-87fd-28d2dbec2210"
      },
      "outputs": [
        {
          "output_type": "stream",
          "name": "stdout",
          "text": [
            "+-----------------------------------+--------------------+--------------------+--------------------+--------------------+\n",
            "|             Algorithms            |     Accurance      |     Precision      |       Recall       |     F1 measure     |\n",
            "+-----------------------------------+--------------------+--------------------+--------------------+--------------------+\n",
            "|  pipeline - KNeighborsClassifier  | 0.9777777777777777 | 0.9777777777777779 | 0.9761904761904763 | 0.9761600681140911 |\n",
            "| pipeline - RandomForestClassifier | 0.9777777777777777 | 0.9777777777777779 | 0.9761904761904763 | 0.9761600681140911 |\n",
            "|       pipeline - GaussianNB       | 0.9777777777777777 | 0.9777777777777779 | 0.9761904761904763 | 0.9761600681140911 |\n",
            "+-----------------------------------+--------------------+--------------------+--------------------+--------------------+\n"
          ]
        }
      ],
      "source": [
        "#code\n",
        "dataSet = datasets.load_iris();\n",
        "dataX = dataSet.data\n",
        "dataY = dataSet.target\n",
        "table = PrettyTable(['Algorithms', 'Accurance', 'Precision', 'Recall','F1 measure'])\n",
        "X_train, X_test, y_train, y_test = train_test_split(dataX, dataY, test_size=0.3, shuffle=True)\n",
        "knn = KNeighborsClassifier();\n",
        "rf = RandomForestClassifier()\n",
        "nb = GaussianNB()\n",
        "algos=[knn, rf, nb]\n",
        "_trainModel(algos, table)\n",
        "print(table)\n",
        "\n",
        "\n"
      ]
    },
    {
      "cell_type": "markdown",
      "metadata": {
        "id": "kNv07ARGzOUm"
      },
      "source": [
        "#Task 2. With **fashion** dataset\n",
        "*   2.1. Apply **MultilayerPerceptron** classification with 1 hidden layer\n",
        "having 10 nodes"
      ]
    },
    {
      "cell_type": "code",
      "execution_count": 3,
      "metadata": {
        "colab": {
          "base_uri": "https://localhost:8080/"
        },
        "id": "sOsg77IBzEyo",
        "outputId": "a5c38edc-71b9-4668-8495-8c74d5b43305"
      },
      "outputs": [
        {
          "output_type": "stream",
          "name": "stderr",
          "text": [
            "/usr/local/lib/python3.10/dist-packages/sklearn/neural_network/_multilayer_perceptron.py:1098: DataConversionWarning: A column-vector y was passed when a 1d array was expected. Please change the shape of y to (n_samples, ), for example using ravel().\n",
            "  y = column_or_1d(y, warn=True)\n"
          ]
        },
        {
          "output_type": "stream",
          "name": "stdout",
          "text": [
            "Accurancy:  0.165\n"
          ]
        }
      ],
      "source": [
        "# code\n",
        "trainSet = pd.read_csv(\"fashion_train.csv\")\n",
        "testSet = pd.read_csv(\"fashion_test.csv\")\n",
        "\n",
        "X_train = trainSet.drop('y', axis=1);\n",
        "y_train= trainSet[['y']]\n",
        "\n",
        "X_test = testSet.drop('y', axis=1);\n",
        "y_test= testSet[['y']]\n",
        "# X_train = StandardScaler().fit_transform(X_train)\n",
        "# y_train = StandardScaler().fit_transform(y_train)\n",
        "\n",
        "clf = MLPClassifier(solver='adam', alpha=1e-5,\n",
        " hidden_layer_sizes=(10,), random_state=1)\n",
        "clf.fit(X_train, y_train)\n",
        "y_pred = clf.predict(X_test)\n",
        "print(\"Accurancy: \", accuracy_score(y_test, y_pred))\n",
        "\n"
      ]
    },
    {
      "cell_type": "markdown",
      "metadata": {
        "id": "pnoVB8J4vV36"
      },
      "source": [
        "*   2.2. Apply **MultilayerPerceptron** algorithm with the following settings (the first hidden layer has 250 neuron, the second one has 100 neurons)."
      ]
    },
    {
      "cell_type": "code",
      "execution_count": null,
      "metadata": {
        "colab": {
          "base_uri": "https://localhost:8080/"
        },
        "id": "-ZTSvsJdvYqI",
        "outputId": "f8dbb527-9d48-4617-ef98-ea09896777b0"
      },
      "outputs": [
        {
          "name": "stderr",
          "output_type": "stream",
          "text": [
            "/usr/local/lib/python3.10/dist-packages/sklearn/neural_network/_multilayer_perceptron.py:1098: DataConversionWarning: A column-vector y was passed when a 1d array was expected. Please change the shape of y to (n_samples, ), for example using ravel().\n",
            "  y = column_or_1d(y, warn=True)\n"
          ]
        },
        {
          "name": "stdout",
          "output_type": "stream",
          "text": [
            "Accurancy:  0.757\n"
          ]
        }
      ],
      "source": [
        "# code\n",
        "clf = MLPClassifier(solver='adam', alpha=1e-5,\n",
        " hidden_layer_sizes=(250,100,), random_state=1)\n",
        "clf.fit(X_train, y_train)\n",
        "y_pred = clf.predict(X_test)\n",
        "print(\"Accurancy: \", accuracy_score(y_test, y_pred))"
      ]
    },
    {
      "cell_type": "markdown",
      "metadata": {
        "id": "uyey-ndXvZlb"
      },
      "source": [
        "*   2.3. Find the best hyperparameters using **GridSearchCV**"
      ]
    },
    {
      "cell_type": "code",
      "execution_count": null,
      "metadata": {
        "colab": {
          "base_uri": "https://localhost:8080/"
        },
        "id": "Qzh_D-rgvbv9",
        "outputId": "ace6ccef-dbd9-42cc-8557-4b336b35962d"
      },
      "outputs": [
        {
          "output_type": "stream",
          "name": "stderr",
          "text": [
            "/usr/local/lib/python3.10/dist-packages/sklearn/neural_network/_multilayer_perceptron.py:1098: DataConversionWarning: A column-vector y was passed when a 1d array was expected. Please change the shape of y to (n_samples, ), for example using ravel().\n",
            "  y = column_or_1d(y, warn=True)\n"
          ]
        },
        {
          "output_type": "stream",
          "name": "stdout",
          "text": [
            "{'activation': 'tanh', 'alpha': 0.05, 'hidden_layer_sizes': (150, 100, 50), 'learning_rate': 'adaptive', 'max_iter': 150, 'solver': 'sgd'}\n"
          ]
        },
        {
          "output_type": "stream",
          "name": "stderr",
          "text": [
            "/usr/local/lib/python3.10/dist-packages/sklearn/neural_network/_multilayer_perceptron.py:686: ConvergenceWarning: Stochastic Optimizer: Maximum iterations (150) reached and the optimization hasn't converged yet.\n",
            "  warnings.warn(\n"
          ]
        }
      ],
      "source": [
        "#code\n",
        "MLPCgrid_params = {\n",
        " 'hidden_layer_sizes': [(150,100,50), (120,80,40), (100,50,30)],\n",
        " 'max_iter': [50, 100, 150],\n",
        " 'activation': ['tanh', 'relu'],\n",
        " 'solver': ['sgd', 'adam'],\n",
        " 'alpha': [0.0001, 0.05],\n",
        " 'learning_rate': ['constant','adaptive'],\n",
        "}\n",
        "clf = MLPClassifier()\n",
        "grid_rf_class = GridSearchCV(\n",
        "  estimator = clf,\n",
        "  param_grid = MLPCgrid_params,\n",
        "  scoring = 'accuracy',\n",
        "  n_jobs =4,\n",
        "  cv=10,\n",
        "  refit = True,\n",
        "  return_train_score = True)\n",
        "grid_rf_class.fit(X_train, y_train)\n",
        "y_pred = grid_rf_class.predict(X_test)\n",
        "print(grid_rf_class.best_params_)\n"
      ]
    },
    {
      "cell_type": "markdown",
      "metadata": {
        "id": "ol1U_T_NvcqV"
      },
      "source": [
        "*   2.4. Compare the **MultilayerPerceptron** using the best hyperparameters in 2.3 and other classification algorithms (i.e., Random forest, kNN, Naïve Bayes)  in termns of accuracy, precision, recall, and F1"
      ]
    },
    {
      "cell_type": "code",
      "source": [],
      "metadata": {
        "id": "jjFycTL5NsQ3"
      },
      "execution_count": null,
      "outputs": []
    },
    {
      "cell_type": "code",
      "execution_count": null,
      "metadata": {
        "id": "UHEeIMZ1Jtjo"
      },
      "outputs": [],
      "source": [
        "#grid_params\n",
        "SMVgrid_params = {'C': [0.1, 1, 10, 100, 1000],\n",
        "              'gamma': [1, 0.1, 0.01, 0.001, 0.0001],\n",
        "              'kernel': ['rbf','linear']}\n",
        "kNNgrid_params = { 'n_neighbors' : [5,7,9,11,13,15],\n",
        "               'weights' : ['uniform','distance'],\n",
        "               'metric' : ['minkowski','euclidean','manhattan']}\n",
        "RFgrid_params = {\n",
        "    'n_estimators': [25, 50, 100, 150],\n",
        "    'max_features': ['sqrt', 'log2', None],\n",
        "    'max_depth': [3, 6, 9],\n",
        "    'max_leaf_nodes': [3, 6, 9],\n",
        "}\n",
        "LRLRgrid_params= {\n",
        "    'C': [ 0.1, 1, 10, 100],\n",
        "    'penalty': ['l1', 'l2'],\n",
        "    'max_iter': list(range(100,800,100)),\n",
        "    'solver': ['newton-cg', 'lbfgs', 'liblinear', 'sag', 'saga']\n",
        "}\n",
        "\n",
        "NBgrid_params = {'var_smoothing': np.logspace(0,-9, num=100)}"
      ]
    },
    {
      "cell_type": "code",
      "source": [
        "model = GaussianNB()\n",
        "algos=[model]\n"
      ],
      "metadata": {
        "id": "MLPt8MCeAeYr"
      },
      "execution_count": null,
      "outputs": []
    },
    {
      "cell_type": "code",
      "source": [
        "svm_l = svm.SVC(C= 10, gamma= 0.1, kernel= 'rbf')\n",
        "rf = RandomForestClassifier(max_depth= 9, max_features= 'sqrt', max_leaf_nodes= 6, n_estimators= 150)\n",
        "knn = KNeighborsClassifier(metric='minkowski', n_neighbors=15, weights='distance')\n",
        "logistic_regression = LogisticRegression(C= 10, max_iter= 100, penalty='l2', solver='liblinear')\n",
        "model = GaussianNB(var_smoothing= 0.01519911082952933)\n",
        "clf = MLPClassifier(\n",
        "    activation='tanh',\n",
        "    alpha=0.05,\n",
        "    hidden_layer_sizes=(150, 100, 50),\n",
        "    learning_rate='adaptive',\n",
        "    max_iter=150,\n",
        "    solver='sgd'\n",
        ")\n",
        "algos=[clf, rf, knn, model]"
      ],
      "metadata": {
        "id": "O2QTVIMY-MVd"
      },
      "execution_count": 11,
      "outputs": []
    },
    {
      "cell_type": "code",
      "execution_count": null,
      "metadata": {
        "id": "NVXtAxPMIukw",
        "colab": {
          "base_uri": "https://localhost:8080/"
        },
        "outputId": "8d087744-9fda-4208-8393-bc294793d994"
      },
      "outputs": [
        {
          "output_type": "stream",
          "name": "stdout",
          "text": [
            "{'var_smoothing': 0.01519911082952933}\n"
          ]
        }
      ],
      "source": [
        "def _findBestHeperParam(t, param_grid, algo):\n",
        "  grid_rf_class = GridSearchCV(\n",
        "  estimator = algo,\n",
        "  param_grid = param_grid,\n",
        "  scoring = 'accuracy',\n",
        "  n_jobs =4,\n",
        "  cv=10,\n",
        "  refit = True,\n",
        "  return_train_score = True)\n",
        "  grid_rf_class.fit(X_train, y_train)\n",
        "  y_pred = grid_rf_class.predict(X_test)\n",
        "  print(grid_rf_class.best_params_)\n",
        "  _insertTable(t, algo.__class__.__name__, y_test, y_pred )\n",
        "\n",
        "\n",
        "\n",
        "\n",
        "grid_params=[MLPCgrid_params, RFgrid_params, kNNgrid_params, SMVgrid_params]\n",
        "for i in range(0, len(algos)):\n",
        "  _findBestHeperParam(table, algos[i], grid_params[i])"
      ]
    },
    {
      "cell_type": "code",
      "execution_count": 12,
      "metadata": {
        "id": "5ZE7A0Au1Pg0",
        "colab": {
          "base_uri": "https://localhost:8080/"
        },
        "outputId": "15993ab9-8ef9-4b1d-f1a0-2e848f1f596f"
      },
      "outputs": [
        {
          "output_type": "stream",
          "name": "stderr",
          "text": [
            "/usr/local/lib/python3.10/dist-packages/sklearn/neural_network/_multilayer_perceptron.py:1098: DataConversionWarning: A column-vector y was passed when a 1d array was expected. Please change the shape of y to (n_samples, ), for example using ravel().\n",
            "  y = column_or_1d(y, warn=True)\n",
            "/usr/local/lib/python3.10/dist-packages/sklearn/neural_network/_multilayer_perceptron.py:686: ConvergenceWarning: Stochastic Optimizer: Maximum iterations (150) reached and the optimization hasn't converged yet.\n",
            "  warnings.warn(\n",
            "<ipython-input-10-7f17eec1463c>:15: DataConversionWarning: A column-vector y was passed when a 1d array was expected. Please change the shape of y to (n_samples,), for example using ravel().\n",
            "  algo.fit(X_train, y_train)\n",
            "/usr/local/lib/python3.10/dist-packages/sklearn/metrics/_classification.py:1344: UndefinedMetricWarning: Precision is ill-defined and being set to 0.0 in labels with no predicted samples. Use `zero_division` parameter to control this behavior.\n",
            "  _warn_prf(average, modifier, msg_start, len(result))\n",
            "/usr/local/lib/python3.10/dist-packages/sklearn/neighbors/_classification.py:215: DataConversionWarning: A column-vector y was passed when a 1d array was expected. Please change the shape of y to (n_samples,), for example using ravel().\n",
            "  return self._fit(X, y)\n",
            "/usr/local/lib/python3.10/dist-packages/sklearn/utils/validation.py:1143: DataConversionWarning: A column-vector y was passed when a 1d array was expected. Please change the shape of y to (n_samples, ), for example using ravel().\n",
            "  y = column_or_1d(y, warn=True)\n"
          ]
        },
        {
          "output_type": "stream",
          "name": "stdout",
          "text": [
            "+------------------------+-----------+--------------------+--------------------+--------------------+\n",
            "|       Algorithms       | Accurance |     Precision      |       Recall       |     F1 measure     |\n",
            "+------------------------+-----------+--------------------+--------------------+--------------------+\n",
            "|     MLPClassifier      |   0.742   | 0.7373345466584647 | 0.7396491287423912 | 0.7318748548892016 |\n",
            "| RandomForestClassifier |   0.645   | 0.5833625996436448 | 0.6468281972351004 | 0.5824525003206339 |\n",
            "|  KNeighborsClassifier  |   0.755   | 0.7705245871885532 | 0.7562478835649278 | 0.7518914732379066 |\n",
            "|       GaussianNB       |   0.675   | 0.6849581549643521 | 0.6746273385329136 | 0.6559984740548461 |\n",
            "+------------------------+-----------+--------------------+--------------------+--------------------+\n"
          ]
        }
      ],
      "source": [
        "#code\n",
        "table = PrettyTable(['Algorithms', 'Accurance', 'Precision', 'Recall','F1 measure'])\n",
        "_comparePerformance(table, algos)\n",
        "print(table)"
      ]
    },
    {
      "cell_type": "markdown",
      "metadata": {
        "id": "SBSLD_k3Pk3X"
      },
      "source": [
        "#Task 3. With **breast cancer** dataset"
      ]
    },
    {
      "cell_type": "markdown",
      "metadata": {
        "id": "w1IZborjPzMH"
      },
      "source": [
        "*   3.1. Apply **GridSearchCV** to **MultilayperPerceptron** to find the best hyperparameters (the setting of hyperparameters chosen by students)"
      ]
    },
    {
      "cell_type": "code",
      "source": [
        "svm_l = svm.SVC(C= 10, gamma= 0.1, kernel= 'rbf')\n",
        "rf = RandomForestClassifier(max_depth= 9, max_features= 'sqrt', max_leaf_nodes= 6, n_estimators= 150)\n",
        "knn = KNeighborsClassifier(metric='minkowski', n_neighbors=15, weights='distance')\n",
        "logistic_regression = LogisticRegression(C= 10, max_iter= 100, penalty='l2', solver='liblinear')\n",
        "model = GaussianNB(var_smoothing= 0.01519911082952933)\n",
        "clf = MLPClassifier(\n",
        "    activation='tanh',\n",
        "    alpha=0.05,\n",
        "    hidden_layer_sizes=(150, 100, 50),\n",
        "    learning_rate='adaptive',\n",
        "    max_iter=150,\n",
        "    solver='sgd'\n",
        ")\n",
        "algos=[clf, rf, knn, model]"
      ],
      "metadata": {
        "id": "CdtFTLx75Q2k"
      },
      "execution_count": null,
      "outputs": []
    },
    {
      "cell_type": "code",
      "execution_count": 16,
      "metadata": {
        "id": "m-mbZEK0QZTv",
        "colab": {
          "base_uri": "https://localhost:8080/"
        },
        "outputId": "a2b40907-e609-4bab-a973-8c678d826e22"
      },
      "outputs": [
        {
          "output_type": "stream",
          "name": "stderr",
          "text": [
            "/usr/local/lib/python3.10/dist-packages/sklearn/neural_network/_multilayer_perceptron.py:686: ConvergenceWarning: Stochastic Optimizer: Maximum iterations (150) reached and the optimization hasn't converged yet.\n",
            "  warnings.warn(\n"
          ]
        }
      ],
      "source": [
        "from sklearn.datasets import load_breast_cancer\n",
        "\n",
        "data = load_breast_cancer()\n",
        "X = data.data  # Ma trận đặc trưng\n",
        "y = data.target  # Vector nhãn\n",
        "X_train, X_test, y_train, y_test = train_test_split(X,y, test_size=0.3, shuffle=True)\n",
        "table = PrettyTable(['Algorithms', 'Accurance', 'Precision', 'Recall','F1 measure'])\n",
        "_comparePerformance(table, algos)\n"
      ]
    },
    {
      "cell_type": "markdown",
      "metadata": {
        "id": "H77rqX7sPv9v"
      },
      "source": [
        "*   3.2. Compare the **MultilayerPerceptron** using the best hyperparameters in 3.1) and other classification algorithms (i.e., Random forest, kNN, Naïve Bayes)  in termns of accuracy, precision, recall, and F1"
      ]
    },
    {
      "cell_type": "code",
      "execution_count": 17,
      "metadata": {
        "id": "pBU6vVH_QakV",
        "colab": {
          "base_uri": "https://localhost:8080/"
        },
        "outputId": "548240b5-5096-41cc-a381-be509c634ac1"
      },
      "outputs": [
        {
          "output_type": "stream",
          "name": "stdout",
          "text": [
            "+------------------------+--------------------+--------------------+--------------------+--------------------+\n",
            "|       Algorithms       |     Accurance      |     Precision      |       Recall       |     F1 measure     |\n",
            "+------------------------+--------------------+--------------------+--------------------+--------------------+\n",
            "|     MLPClassifier      | 0.8771929824561403 | 0.8838842975206611 | 0.8461251862891208 |  0.85995085995086  |\n",
            "| RandomForestClassifier | 0.9532163742690059 | 0.9607366771159875 | 0.9380774962742175 | 0.9478181263350626 |\n",
            "|  KNeighborsClassifier  | 0.9181286549707602 | 0.9250879437160218 | 0.8961997019374068 | 0.9078947368421053 |\n",
            "|       GaussianNB       | 0.8888888888888888 | 0.9102608695652175 | 0.851564828614009  | 0.8707894213561345 |\n",
            "+------------------------+--------------------+--------------------+--------------------+--------------------+\n"
          ]
        }
      ],
      "source": [
        "#code\n",
        "print(table)"
      ]
    },
    {
      "cell_type": "markdown",
      "metadata": {
        "id": "4JdCVnj_89Fl"
      },
      "source": [
        "#Task 4. With **mobile price classification** dataset\n",
        "\n",
        "\n",
        "*   4.1. Build your own Neural Network using **MultilayerPerceptron**  \n",
        "\n"
      ]
    },
    {
      "cell_type": "code",
      "execution_count": 19,
      "metadata": {
        "id": "ePpTY6Lk9X2V",
        "colab": {
          "base_uri": "https://localhost:8080/"
        },
        "outputId": "755ae645-68cc-48bc-adc1-c26d010b7d75"
      },
      "outputs": [
        {
          "output_type": "stream",
          "name": "stdout",
          "text": [
            "+---------------+--------------------+--------------------+--------------------+--------------------+\n",
            "|   Algorithms  |     Accurance      |     Precision      |       Recall       |     F1 measure     |\n",
            "+---------------+--------------------+--------------------+--------------------+--------------------+\n",
            "| MLPClassifier | 0.9181286549707602 | 0.9348746081504702 | 0.8981773823191734 | 0.9108047690014903 |\n",
            "+---------------+--------------------+--------------------+--------------------+--------------------+\n"
          ]
        },
        {
          "output_type": "stream",
          "name": "stderr",
          "text": [
            "/usr/local/lib/python3.10/dist-packages/sklearn/neural_network/_multilayer_perceptron.py:686: ConvergenceWarning: Stochastic Optimizer: Maximum iterations (200) reached and the optimization hasn't converged yet.\n",
            "  warnings.warn(\n"
          ]
        }
      ],
      "source": [
        "#code\n",
        "datasetTrain = pd.read_csv(\"mobile_train.csv\")\n",
        "datasetTest = pd.read_csv(\"mobile_test.csv\")\n",
        "dataX = datasetTrain.drop(\"price_range\",axis=1)\n",
        "dataY = datasetTrain.get(\"price_range\")\n",
        "X_train, X_test, y_train, y_test = train_test_split(X,y, test_size=0.3, shuffle=True)\n",
        "table = PrettyTable(['Algorithms', 'Accurance', 'Precision', 'Recall','F1 measure'])\n",
        "clf = MLPClassifier(\n",
        "\n",
        ")\n",
        "_comparePerformance(table, [clf])\n",
        "print(table)\n"
      ]
    },
    {
      "cell_type": "markdown",
      "metadata": {
        "id": "yqlFS6ic9ZCV"
      },
      "source": [
        "*   4.2. Apply **GridSearchCV** to **MultilayperPerceptron** to find the best hyperparameters (the setting of hyperparameters chosen by students)"
      ]
    },
    {
      "cell_type": "code",
      "execution_count": 20,
      "metadata": {
        "id": "OvW2yGUU9_ik",
        "colab": {
          "base_uri": "https://localhost:8080/"
        },
        "outputId": "4c2b2d6f-9a28-4966-b83d-871cc1a4e847"
      },
      "outputs": [
        {
          "output_type": "stream",
          "name": "stdout",
          "text": [
            "+---------------+--------------------+--------------------+--------------------+--------------------+\n",
            "|   Algorithms  |     Accurance      |     Precision      |       Recall       |     F1 measure     |\n",
            "+---------------+--------------------+--------------------+--------------------+--------------------+\n",
            "| MLPClassifier | 0.8830409356725146 | 0.9053921568627451 | 0.8560562571756601 | 0.8706113801452784 |\n",
            "+---------------+--------------------+--------------------+--------------------+--------------------+\n"
          ]
        },
        {
          "output_type": "stream",
          "name": "stderr",
          "text": [
            "/usr/local/lib/python3.10/dist-packages/sklearn/neural_network/_multilayer_perceptron.py:686: ConvergenceWarning: Stochastic Optimizer: Maximum iterations (150) reached and the optimization hasn't converged yet.\n",
            "  warnings.warn(\n"
          ]
        }
      ],
      "source": [
        "#code\n",
        "table = PrettyTable(['Algorithms', 'Accurance', 'Precision', 'Recall','F1 measure'])\n",
        "clf = MLPClassifier(\n",
        "    activation='tanh',\n",
        "    alpha=0.05,\n",
        "    hidden_layer_sizes=(150, 100, 50),\n",
        "    learning_rate='adaptive',\n",
        "    max_iter=150,\n",
        "    solver='sgd'\n",
        ")\n",
        "_comparePerformance(table, [clf])\n",
        "print(table)"
      ]
    },
    {
      "cell_type": "markdown",
      "metadata": {
        "id": "Ok7RGkea_b7n"
      },
      "source": [
        "#Finally,\n",
        "Save a copy in your Github. Remember renaming the notebook."
      ]
    }
  ],
  "metadata": {
    "colab": {
      "provenance": [],
      "include_colab_link": true
    },
    "kernelspec": {
      "display_name": "Python 3",
      "name": "python3"
    },
    "language_info": {
      "name": "python"
    }
  },
  "nbformat": 4,
  "nbformat_minor": 0
}