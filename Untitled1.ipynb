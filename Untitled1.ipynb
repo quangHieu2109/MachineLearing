{
  "nbformat": 4,
  "nbformat_minor": 0,
  "metadata": {
    "colab": {
      "provenance": [],
      "authorship_tag": "ABX9TyP2m8pWmhwVxjEyvgU6jUOl",
      "include_colab_link": true
    },
    "kernelspec": {
      "name": "python3",
      "display_name": "Python 3"
    },
    "language_info": {
      "name": "python"
    }
  },
  "cells": [
    {
      "cell_type": "markdown",
      "metadata": {
        "id": "view-in-github",
        "colab_type": "text"
      },
      "source": [
        "<a href=\"https://colab.research.google.com/github/quangHieu2109/MachineLearing/blob/main/Untitled1.ipynb\" target=\"_parent\"><img src=\"https://colab.research.google.com/assets/colab-badge.svg\" alt=\"Open In Colab\"/></a>"
      ]
    },
    {
      "cell_type": "code",
      "execution_count": 3,
      "metadata": {
        "colab": {
          "base_uri": "https://localhost:8080/"
        },
        "id": "0lhs_mU_wYJt",
        "outputId": "9899b2dc-7ae0-45df-f789-f9992d32962a"
      },
      "outputs": [
        {
          "output_type": "stream",
          "name": "stdout",
          "text": [
            "Nhap so nguyen n: 5\n",
            "Nhap x :7\n",
            "Nhap x :3\n",
            "Nhap x :2\n",
            "Nhap x :4\n",
            "Nhap x :-6\n",
            "Max:  7\n",
            "Min:  -6\n",
            "Sum:  10\n",
            "Am:  1\n",
            "Duong:  4\n"
          ]
        }
      ],
      "source": [
        "n = int(input(\"Nhap so nguyen n: \"))\n",
        "list = []\n",
        "am =0;\n",
        "duong =0\n",
        "for i in range(n):\n",
        "  x = int(input(\"Nhap x :\"))\n",
        "  list.append(x)\n",
        "  if(x>=0):\n",
        "    duong+=1\n",
        "  elif (x<0):\n",
        "    am+=1\n",
        "\n",
        "print(\"Max: \", max(list))\n",
        "print(\"Min: \", min(list))\n",
        "print(\"Sum: \", sum(list))\n",
        "\n",
        "list.sort()\n",
        "\n",
        "\n",
        "print(\"Am: \", am)\n",
        "print(\"Duong: \",duong)\n"
      ]
    },
    {
      "cell_type": "code",
      "source": [
        "def tich(n):\n",
        "  if n>0:\n",
        "    if(n==1):\n",
        "      return n\n",
        "    else:\n",
        "      return n*tich(n-1)\n",
        "\n",
        "def function1_2():\n",
        "  n = int(input(\"Nhap n:\"))\n",
        "  result =0\n",
        "  for i in range(n+1):\n",
        "   if i>0:\n",
        "     result += tich(i)\n",
        "  return result\n",
        "function1_2()"
      ],
      "metadata": {
        "colab": {
          "base_uri": "https://localhost:8080/"
        },
        "id": "vkmKZacX1ral",
        "outputId": "b8a8e4a7-201c-4834-e64a-106f528ba8e9"
      },
      "execution_count": 22,
      "outputs": [
        {
          "name": "stdout",
          "output_type": "stream",
          "text": [
            "Nhap n:3\n"
          ]
        },
        {
          "output_type": "execute_result",
          "data": {
            "text/plain": [
              "9"
            ]
          },
          "metadata": {},
          "execution_count": 22
        }
      ]
    }
  ]
}